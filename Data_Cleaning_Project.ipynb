{
 "cells": [
  {
   "cell_type": "code",
   "execution_count": 1,
   "id": "9788e900",
   "metadata": {},
   "outputs": [],
   "source": [
    "import pandas as pd"
   ]
  },
  {
   "cell_type": "code",
   "execution_count": 3,
   "id": "9ea69d5e",
   "metadata": {},
   "outputs": [
    {
     "name": "stderr",
     "output_type": "stream",
     "text": [
      "/var/folders/dz/f9dqd7pd5790cn4sfmjmbyg80000gn/T/ipykernel_66101/962831163.py:1: DeprecationWarning: Importing display from IPython.core.display is deprecated since IPython 7.14, please import from IPython display\n",
      "  from IPython.core.display import display, HTML\n"
     ]
    },
    {
     "data": {
      "text/html": [
       "<style>.container {width: 100% !important;}</style>"
      ],
      "text/plain": [
       "<IPython.core.display.HTML object>"
      ]
     },
     "metadata": {},
     "output_type": "display_data"
    }
   ],
   "source": [
    "from IPython.core.display import display, HTML\n",
    "display(HTML(\"<style>.container {width: 100% !important;}</style>\"))"
   ]
  },
  {
   "cell_type": "code",
   "execution_count": 5,
   "id": "08fa9db1",
   "metadata": {},
   "outputs": [],
   "source": [
    "invoices = pd.read_csv('https://raw.githubusercontent.com/FBosler/you-datascientist/master/invoices.csv')"
   ]
  },
  {
   "cell_type": "code",
   "execution_count": 8,
   "id": "6c22ab59",
   "metadata": {},
   "outputs": [
    {
     "data": {
      "text/plain": [
       "2017-06-18 21:00:00+02:00    11\n",
       "2018-04-10 22:00:00+02:00    11\n",
       "2014-11-27 07:00:00+01:00    11\n",
       "2017-12-26 07:00:00+01:00    11\n",
       "2015-12-25 22:00:00+01:00    11\n",
       "                             ..\n",
       "2015-04-18 12:00:00+02:00     1\n",
       "2018-10-11 22:00:00+02:00     1\n",
       "2014-09-08 12:00:00+02:00     1\n",
       "2018-12-31 22:00:00+01:00     1\n",
       "2017-03-08 08:00:00+01:00     1\n",
       "Name: Date of Meal, Length: 15689, dtype: int64"
      ]
     },
     "execution_count": 8,
     "metadata": {},
     "output_type": "execute_result"
    }
   ],
   "source": [
    "invoices.head()\n",
    "invoices.dtypes\n",
    "invoices['Date of Meal'].value_counts()\n"
   ]
  },
  {
   "cell_type": "code",
   "execution_count": 15,
   "id": "bdbe02de",
   "metadata": {},
   "outputs": [
    {
     "data": {
      "text/html": [
       "<div>\n",
       "<style scoped>\n",
       "    .dataframe tbody tr th:only-of-type {\n",
       "        vertical-align: middle;\n",
       "    }\n",
       "\n",
       "    .dataframe tbody tr th {\n",
       "        vertical-align: top;\n",
       "    }\n",
       "\n",
       "    .dataframe thead th {\n",
       "        text-align: right;\n",
       "    }\n",
       "</style>\n",
       "<table border=\"1\" class=\"dataframe\">\n",
       "  <thead>\n",
       "    <tr style=\"text-align: right;\">\n",
       "      <th></th>\n",
       "      <th>Order Id</th>\n",
       "      <th>Date</th>\n",
       "      <th>Meal Id</th>\n",
       "      <th>Company Id</th>\n",
       "      <th>Date of Meal</th>\n",
       "      <th>Participants</th>\n",
       "      <th>Meal Price</th>\n",
       "      <th>Type of Meal</th>\n",
       "      <th>Heroes Adjustment</th>\n",
       "      <th>Mear Price</th>\n",
       "    </tr>\n",
       "  </thead>\n",
       "  <tbody>\n",
       "    <tr>\n",
       "      <th>0</th>\n",
       "      <td>839FKFW2LLX4LMBB</td>\n",
       "      <td>2016-05-27</td>\n",
       "      <td>INBUX904GIHI8YBD</td>\n",
       "      <td>LJKS5NK6788CYMUU</td>\n",
       "      <td>2016-05-31 07:00:00+02:00</td>\n",
       "      <td>['David Bishop']</td>\n",
       "      <td>469</td>\n",
       "      <td>Breakfast</td>\n",
       "      <td>False</td>\n",
       "      <td>NaN</td>\n",
       "    </tr>\n",
       "    <tr>\n",
       "      <th>1</th>\n",
       "      <td>97OX39BGVMHODLJM</td>\n",
       "      <td>2018-09-27</td>\n",
       "      <td>J0MMOOPP709DIDIE</td>\n",
       "      <td>LJKS5NK6788CYMUU</td>\n",
       "      <td>2018-10-01 20:00:00+02:00</td>\n",
       "      <td>['David Bishop']</td>\n",
       "      <td>22</td>\n",
       "      <td>Dinner</td>\n",
       "      <td>False</td>\n",
       "      <td>NaN</td>\n",
       "    </tr>\n",
       "    <tr>\n",
       "      <th>2</th>\n",
       "      <td>041ORQM5OIHTIU6L</td>\n",
       "      <td>2014-08-24</td>\n",
       "      <td>E4UJLQNCI16UX5CS</td>\n",
       "      <td>LJKS5NK6788CYMUU</td>\n",
       "      <td>2014-08-23 14:00:00+02:00</td>\n",
       "      <td>['Karen Stansell']</td>\n",
       "      <td>314</td>\n",
       "      <td>Lunch</td>\n",
       "      <td>False</td>\n",
       "      <td>NaN</td>\n",
       "    </tr>\n",
       "    <tr>\n",
       "      <th>3</th>\n",
       "      <td>YT796QI18WNGZ7ZJ</td>\n",
       "      <td>2014-04-12</td>\n",
       "      <td>C9SDFHF7553BE247</td>\n",
       "      <td>LJKS5NK6788CYMUU</td>\n",
       "      <td>2014-04-07 21:00:00+02:00</td>\n",
       "      <td>['Addie Patino']</td>\n",
       "      <td>438</td>\n",
       "      <td>Dinner</td>\n",
       "      <td>False</td>\n",
       "      <td>NaN</td>\n",
       "    </tr>\n",
       "    <tr>\n",
       "      <th>4</th>\n",
       "      <td>6YLROQT27B6HRF4E</td>\n",
       "      <td>2015-07-28</td>\n",
       "      <td>48EQXS6IHYNZDDZ5</td>\n",
       "      <td>LJKS5NK6788CYMUU</td>\n",
       "      <td>2015-07-27 14:00:00+02:00</td>\n",
       "      <td>['Addie Patino' 'Susan Guerrero']</td>\n",
       "      <td>690</td>\n",
       "      <td>Lunch</td>\n",
       "      <td>False</td>\n",
       "      <td>NaN</td>\n",
       "    </tr>\n",
       "    <tr>\n",
       "      <th>...</th>\n",
       "      <td>...</td>\n",
       "      <td>...</td>\n",
       "      <td>...</td>\n",
       "      <td>...</td>\n",
       "      <td>...</td>\n",
       "      <td>...</td>\n",
       "      <td>...</td>\n",
       "      <td>...</td>\n",
       "      <td>...</td>\n",
       "      <td>...</td>\n",
       "    </tr>\n",
       "    <tr>\n",
       "      <th>50012</th>\n",
       "      <td>4OMS8ZSA0UX8LHWI</td>\n",
       "      <td>2017-09-20</td>\n",
       "      <td>1TD5MROATV1NHZ4Y</td>\n",
       "      <td>E4K99D4JR9E40VE1</td>\n",
       "      <td>2017-09-21 08:00:00+02:00</td>\n",
       "      <td>['Regina Shirley']</td>\n",
       "      <td>9</td>\n",
       "      <td>Breakfast</td>\n",
       "      <td>False</td>\n",
       "      <td>NaN</td>\n",
       "    </tr>\n",
       "    <tr>\n",
       "      <th>50013</th>\n",
       "      <td>RR0VKJN8V0KHNKGG</td>\n",
       "      <td>2018-03-19</td>\n",
       "      <td>22EX9VZSJKHP4AIP</td>\n",
       "      <td>E4K99D4JR9E40VE1</td>\n",
       "      <td>2018-03-18 09:00:00+01:00</td>\n",
       "      <td>['Robin Ramos' 'Chester Mortimer']</td>\n",
       "      <td>25</td>\n",
       "      <td>Breakfast</td>\n",
       "      <td>False</td>\n",
       "      <td>NaN</td>\n",
       "    </tr>\n",
       "    <tr>\n",
       "      <th>50014</th>\n",
       "      <td>STJ6QJC30WPRM93H</td>\n",
       "      <td>2017-09-21</td>\n",
       "      <td>LMX18PNGWCIMG1QW</td>\n",
       "      <td>E4K99D4JR9E40VE1</td>\n",
       "      <td>2017-09-22 21:00:00+02:00</td>\n",
       "      <td>['Robin Ramos']</td>\n",
       "      <td>160</td>\n",
       "      <td>Dinner</td>\n",
       "      <td>False</td>\n",
       "      <td>NaN</td>\n",
       "    </tr>\n",
       "    <tr>\n",
       "      <th>50015</th>\n",
       "      <td>QHEUIYNC0XQX7GDR</td>\n",
       "      <td>2018-01-28</td>\n",
       "      <td>4U0VH2TGQL30X23X</td>\n",
       "      <td>E4K99D4JR9E40VE1</td>\n",
       "      <td>2018-02-01 21:00:00+01:00</td>\n",
       "      <td>['Chester Mortimer' 'Robin Ramos']</td>\n",
       "      <td>497</td>\n",
       "      <td>Dinner</td>\n",
       "      <td>False</td>\n",
       "      <td>NaN</td>\n",
       "    </tr>\n",
       "    <tr>\n",
       "      <th>50016</th>\n",
       "      <td>NKHFWT5I2J9LPAPG</td>\n",
       "      <td>2017-09-06</td>\n",
       "      <td>ORWFRT5TUSYGNYG7</td>\n",
       "      <td>E4K99D4JR9E40VE1</td>\n",
       "      <td>2017-09-09 14:00:00+02:00</td>\n",
       "      <td>['Chester Mortimer' 'Robin Ramos']</td>\n",
       "      <td>365</td>\n",
       "      <td>Lunch</td>\n",
       "      <td>False</td>\n",
       "      <td>NaN</td>\n",
       "    </tr>\n",
       "  </tbody>\n",
       "</table>\n",
       "<p>50017 rows × 10 columns</p>\n",
       "</div>"
      ],
      "text/plain": [
       "               Order Id       Date           Meal Id        Company Id  \\\n",
       "0      839FKFW2LLX4LMBB 2016-05-27  INBUX904GIHI8YBD  LJKS5NK6788CYMUU   \n",
       "1      97OX39BGVMHODLJM 2018-09-27  J0MMOOPP709DIDIE  LJKS5NK6788CYMUU   \n",
       "2      041ORQM5OIHTIU6L 2014-08-24  E4UJLQNCI16UX5CS  LJKS5NK6788CYMUU   \n",
       "3      YT796QI18WNGZ7ZJ 2014-04-12  C9SDFHF7553BE247  LJKS5NK6788CYMUU   \n",
       "4      6YLROQT27B6HRF4E 2015-07-28  48EQXS6IHYNZDDZ5  LJKS5NK6788CYMUU   \n",
       "...                 ...        ...               ...               ...   \n",
       "50012  4OMS8ZSA0UX8LHWI 2017-09-20  1TD5MROATV1NHZ4Y  E4K99D4JR9E40VE1   \n",
       "50013  RR0VKJN8V0KHNKGG 2018-03-19  22EX9VZSJKHP4AIP  E4K99D4JR9E40VE1   \n",
       "50014  STJ6QJC30WPRM93H 2017-09-21  LMX18PNGWCIMG1QW  E4K99D4JR9E40VE1   \n",
       "50015  QHEUIYNC0XQX7GDR 2018-01-28  4U0VH2TGQL30X23X  E4K99D4JR9E40VE1   \n",
       "50016  NKHFWT5I2J9LPAPG 2017-09-06  ORWFRT5TUSYGNYG7  E4K99D4JR9E40VE1   \n",
       "\n",
       "                    Date of Meal                        Participants  \\\n",
       "0      2016-05-31 07:00:00+02:00                    ['David Bishop']   \n",
       "1      2018-10-01 20:00:00+02:00                    ['David Bishop']   \n",
       "2      2014-08-23 14:00:00+02:00                  ['Karen Stansell']   \n",
       "3      2014-04-07 21:00:00+02:00                    ['Addie Patino']   \n",
       "4      2015-07-27 14:00:00+02:00   ['Addie Patino' 'Susan Guerrero']   \n",
       "...                          ...                                 ...   \n",
       "50012  2017-09-21 08:00:00+02:00                  ['Regina Shirley']   \n",
       "50013  2018-03-18 09:00:00+01:00  ['Robin Ramos' 'Chester Mortimer']   \n",
       "50014  2017-09-22 21:00:00+02:00                     ['Robin Ramos']   \n",
       "50015  2018-02-01 21:00:00+01:00  ['Chester Mortimer' 'Robin Ramos']   \n",
       "50016  2017-09-09 14:00:00+02:00  ['Chester Mortimer' 'Robin Ramos']   \n",
       "\n",
       "      Meal Price Type of Meal  Heroes Adjustment Mear Price  \n",
       "0            469    Breakfast              False        NaN  \n",
       "1             22       Dinner              False        NaN  \n",
       "2            314        Lunch              False        NaN  \n",
       "3            438       Dinner              False        NaN  \n",
       "4            690        Lunch              False        NaN  \n",
       "...          ...          ...                ...        ...  \n",
       "50012          9    Breakfast              False        NaN  \n",
       "50013         25    Breakfast              False        NaN  \n",
       "50014        160       Dinner              False        NaN  \n",
       "50015        497       Dinner              False        NaN  \n",
       "50016        365        Lunch              False        NaN  \n",
       "\n",
       "[50017 rows x 10 columns]"
      ]
     },
     "execution_count": 15,
     "metadata": {},
     "output_type": "execute_result"
    }
   ],
   "source": [
    "invoices"
   ]
  },
  {
   "cell_type": "markdown",
   "id": "197ffe0e",
   "metadata": {},
   "source": [
    "#### Data type conversion"
   ]
  },
  {
   "cell_type": "code",
   "execution_count": 9,
   "id": "3132308f",
   "metadata": {},
   "outputs": [
    {
     "data": {
      "text/plain": [
       "Order Id                     object\n",
       "Date                 datetime64[ns]\n",
       "Meal Id                      object\n",
       "Company Id                   object\n",
       "Date of Meal                 object\n",
       "Participants                 object\n",
       "Meal Price                    int64\n",
       "Type of Meal               category\n",
       "Heroes Adjustment              bool\n",
       "dtype: object"
      ]
     },
     "execution_count": 9,
     "metadata": {},
     "output_type": "execute_result"
    }
   ],
   "source": [
    "#.astype()\n",
    "invoices['Date'] = invoices['Date'].astype('datetime64')\n",
    "invoices['Type of Meal'] = invoices['Type of Meal'].astype('category')\n",
    "invoices['Meal Price'] = invoices['Meal Price'].astype('int64')\n",
    "invoices.dtypes"
   ]
  },
  {
   "cell_type": "code",
   "execution_count": 10,
   "id": "7e071184",
   "metadata": {},
   "outputs": [
    {
     "data": {
      "text/html": [
       "<div>\n",
       "<style scoped>\n",
       "    .dataframe tbody tr th:only-of-type {\n",
       "        vertical-align: middle;\n",
       "    }\n",
       "\n",
       "    .dataframe tbody tr th {\n",
       "        vertical-align: top;\n",
       "    }\n",
       "\n",
       "    .dataframe thead th {\n",
       "        text-align: right;\n",
       "    }\n",
       "</style>\n",
       "<table border=\"1\" class=\"dataframe\">\n",
       "  <thead>\n",
       "    <tr style=\"text-align: right;\">\n",
       "      <th></th>\n",
       "      <th>Type of Meal</th>\n",
       "    </tr>\n",
       "  </thead>\n",
       "  <tbody>\n",
       "    <tr>\n",
       "      <th>0</th>\n",
       "      <td>Breakfast</td>\n",
       "    </tr>\n",
       "    <tr>\n",
       "      <th>1</th>\n",
       "      <td>Dinner</td>\n",
       "    </tr>\n",
       "    <tr>\n",
       "      <th>2</th>\n",
       "      <td>Lunch</td>\n",
       "    </tr>\n",
       "    <tr>\n",
       "      <th>3</th>\n",
       "      <td>Dinner</td>\n",
       "    </tr>\n",
       "    <tr>\n",
       "      <th>4</th>\n",
       "      <td>Lunch</td>\n",
       "    </tr>\n",
       "  </tbody>\n",
       "</table>\n",
       "</div>"
      ],
      "text/plain": [
       "  Type of Meal\n",
       "0    Breakfast\n",
       "1       Dinner\n",
       "2        Lunch\n",
       "3       Dinner\n",
       "4        Lunch"
      ]
     },
     "execution_count": 10,
     "metadata": {},
     "output_type": "execute_result"
    }
   ],
   "source": [
    "invoices.select_dtypes(include = 'category').head()"
   ]
  },
  {
   "cell_type": "markdown",
   "id": "a3e9d0eb",
   "metadata": {},
   "source": [
    "#### Conversion helper functions, like pd.to_numeric or pd.to_datetime"
   ]
  },
  {
   "cell_type": "code",
   "execution_count": 11,
   "id": "582e5e15",
   "metadata": {},
   "outputs": [],
   "source": [
    "invoices.loc[45612, 'Meal Price'] = 'I am here'\n",
    "invoices.loc[45620, 'Mear Price'] = 'Me Too'"
   ]
  },
  {
   "cell_type": "code",
   "execution_count": 12,
   "id": "9a8e668f",
   "metadata": {},
   "outputs": [
    {
     "data": {
      "text/plain": [
       "<class 'int'>    50016\n",
       "<class 'str'>        1\n",
       "Name: Meal Price, dtype: int64"
      ]
     },
     "execution_count": 12,
     "metadata": {},
     "output_type": "execute_result"
    }
   ],
   "source": [
    "invoices['Meal Price'].apply(lambda x:type(x)).value_counts()"
   ]
  },
  {
   "cell_type": "code",
   "execution_count": 14,
   "id": "e9f55351",
   "metadata": {},
   "outputs": [
    {
     "data": {
      "text/plain": [
       "45612    I am here\n",
       "Name: Meal Price, dtype: object"
      ]
     },
     "execution_count": 14,
     "metadata": {},
     "output_type": "execute_result"
    }
   ],
   "source": [
    "invoices['Meal Price'][invoices['Meal Price'].apply(lambda x:isinstance(x, str))]"
   ]
  },
  {
   "cell_type": "code",
   "execution_count": null,
   "id": "41ea8f46",
   "metadata": {},
   "outputs": [],
   "source": []
  }
 ],
 "metadata": {
  "kernelspec": {
   "display_name": "Python 3 (ipykernel)",
   "language": "python",
   "name": "python3"
  },
  "language_info": {
   "codemirror_mode": {
    "name": "ipython",
    "version": 3
   },
   "file_extension": ".py",
   "mimetype": "text/x-python",
   "name": "python",
   "nbconvert_exporter": "python",
   "pygments_lexer": "ipython3",
   "version": "3.9.12"
  }
 },
 "nbformat": 4,
 "nbformat_minor": 5
}
